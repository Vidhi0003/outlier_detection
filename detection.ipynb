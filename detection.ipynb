{
 "cells": [
  {
   "cell_type": "markdown",
   "id": "7a20e037",
   "metadata": {},
   "source": [
    "# Section 1\n",
    "\n",
    "Generating our data: a small dataset with in-distribution (IND) datapoints and a clearly separated out-of-distribution (OOD) cluster that we will use to test our models performance on unseen data.\n"
   ]
  },
  {
   "cell_type": "code",
   "execution_count": null,
   "id": "1d3edfc4",
   "metadata": {},
   "outputs": [],
   "source": [
    "# imports and set-up\n",
    "\n",
    "import numpy as np\n",
    "import pandas as pd \n",
    "import matplotlib.pyplot as plt\n",
    "# import seaborn as sns\n",
    "\n",
    "from sklearn.datasets import make_moons\n",
    "from sklearn.model_selection import train_test_split\n",
    "\n",
    "plt.rcParams['figure.figsize'] = {6.2, 5.2}\n",
    "plt.rcParams['axes.spines.top'] = False\n",
    "plt.rcParams['axes.spines.right'] = False\n",
    "\n",
    "rng = np.random.RandomState(42)\n",
    "\n",
    "# 2. generate our IND data - two interlocking half circles (moons)\n",
    "X_all, y_all = make_moons(n_samples=600, noise=0.2, random_state=rng)\n",
    "\n",
    "X_train, X_test, y_train, y_test = train_test_split(\n",
    "    X_all, y_all, test_size=0.3, random_state=rng, stratify=y_all\n",
    ")"
   ]
  }
 ],
 "metadata": {
  "language_info": {
   "name": "python"
  }
 },
 "nbformat": 4,
 "nbformat_minor": 5
}
