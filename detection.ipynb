{
 "cells": [
  {
   "cell_type": "markdown",
   "id": "7a20e037",
   "metadata": {},
   "source": [
    "# Section 1\n",
    "\n",
    "Generating our data: a small dataset with in-distribution (IND) datapoints and a clearly separated out-of-distribution (OOD) cluster that we will use to test our models performance on unseen data.\n"
   ]
  },
  {
   "cell_type": "code",
   "execution_count": 2,
   "id": "1d3edfc4",
   "metadata": {},
   "outputs": [
    {
     "name": "stdout",
     "output_type": "stream",
     "text": [
      "Shapes:  Train: (420, 2) IND test: (180, 2) OOD test: (120, 2)\n"
     ]
    }
   ],
   "source": [
    "# imports and set-up\n",
    "\n",
    "import numpy as np\n",
    "import pandas as pd \n",
    "import matplotlib.pyplot as plt\n",
    "# import seaborn as sns\n",
    "\n",
    "from sklearn.datasets import make_moons\n",
    "from sklearn.model_selection import train_test_split\n",
    "\n",
    "plt.rcParams['figure.figsize'] = (6.2, 5.2)\n",
    "plt.rcParams['axes.spines.top'] = False\n",
    "plt.rcParams['axes.spines.right'] = False\n",
    "\n",
    "rng = np.random.RandomState(42)\n",
    "\n",
    "# 2. generate our IND data - two interlocking half circles (moons)\n",
    "X_all, y_all = make_moons(n_samples=600, noise=0.2, random_state=rng)\n",
    "\n",
    "X_train, X_test, y_train, y_test = train_test_split(\n",
    "    X_all, y_all, test_size=0.3, random_state=rng, stratify=y_all\n",
    ")\n",
    "\n",
    "# 3. generate OOD data - separate gaussian cluster\n",
    "X_ood = rng.normal(loc=[3.4, 3.0], scale=[0.35, 0.35], size=(120, 2))\n",
    "\n",
    "# 4. print shape summary\n",
    "print(\"Shapes: \",\n",
    "        \"Train:\", X_train.shape,\n",
    "        \"IND test:\", X_test.shape,\n",
    "        \"OOD test:\", X_ood.shape\n",
    ")"
   ]
  }
 ],
 "metadata": {
  "kernelspec": {
   "display_name": "Python 3",
   "language": "python",
   "name": "python3"
  },
  "language_info": {
   "codemirror_mode": {
    "name": "ipython",
    "version": 3
   },
   "file_extension": ".py",
   "mimetype": "text/x-python",
   "name": "python",
   "nbconvert_exporter": "python",
   "pygments_lexer": "ipython3",
   "version": "3.12.1"
  }
 },
 "nbformat": 4,
 "nbformat_minor": 5
}
